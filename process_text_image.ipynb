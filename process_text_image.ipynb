{
 "cells": [
  {
   "cell_type": "code",
   "execution_count": 1,
   "metadata": {},
   "outputs": [],
   "source": [
    "import os\n",
    "import glob\n",
    "import json"
   ]
  },
  {
   "cell_type": "code",
   "execution_count": 2,
   "metadata": {},
   "outputs": [
    {
     "name": "stdout",
     "output_type": "stream",
     "text": [
      "Found 270 image scores\n"
     ]
    }
   ],
   "source": [
    "base_path = \"./data/wikiweb2m/text_image_scores\"\n",
    "\n",
    "json_files = glob.glob(os.path.join(base_path, \"*.json\"))\n",
    "\n",
    "data = {}\n",
    "for file in json_files:\n",
    "    with open(file, 'r') as f:\n",
    "        data.update(json.load(f))\n",
    "\n",
    "print(f\"Found {len(data)} image scores\")\n",
    "\n",
    "# save data\n",
    "with open(os.path.join(os.path.dirname(base_path), 'image_scores.json'), 'w') as f:\n",
    "    json.dump(data, f, indent=4)"
   ]
  },
  {
   "cell_type": "code",
   "execution_count": 6,
   "metadata": {},
   "outputs": [
    {
     "name": "stdout",
     "output_type": "stream",
     "text": [
      "Found 10000 text scores\n",
      "Found 270 image scores\n",
      "Found 270 common keys\n"
     ]
    }
   ],
   "source": [
    "text_score_path = \"./text_scores.json\"\n",
    "\n",
    "with open(text_score_path, 'r') as f:\n",
    "    text_scores = json.load(f)\n",
    "\n",
    "print(f\"Found {len(text_scores)} text scores\")\n",
    "\n",
    "\n",
    "image_score_path = \"./data/wikiweb2m/image_scores.json\"\n",
    "\n",
    "with open(image_score_path, 'r') as f:\n",
    "    image_scores = json.load(f)\n",
    "\n",
    "print(f\"Found {len(image_scores)} image scores\")\n",
    "\n",
    "\n",
    "# find common keys\n",
    "common_keys = set(text_scores.keys()).intersection(set(image_scores.keys()))\n",
    "print(f\"Found {len(common_keys)} common keys\")"
   ]
  },
  {
   "cell_type": "code",
   "execution_count": 8,
   "metadata": {},
   "outputs": [
    {
     "name": "stdout",
     "output_type": "stream",
     "text": [
      "Found 270 combined scores\n"
     ]
    }
   ],
   "source": [
    "combined_scores_path = \"./text_scores_image_True_text_True_scores.json\"\n",
    "\n",
    "with open(combined_scores_path, 'r') as f:\n",
    "    combined_scores = json.load(f)\n",
    "\n",
    "print(f\"Found {len(combined_scores)} combined scores\")"
   ]
  },
  {
   "cell_type": "code",
   "execution_count": 45,
   "metadata": {},
   "outputs": [],
   "source": [
    "from evaluate import compare_rankings\n",
    "\n",
    "t_correct, i_correct, i_t_wrong = compare_rankings(text_scores, image_scores)"
   ]
  },
  {
   "cell_type": "code",
   "execution_count": 50,
   "metadata": {},
   "outputs": [
    {
     "name": "stdout",
     "output_type": "stream",
     "text": [
      "Text correct: 169 (0.9825581395348837)\n",
      "Image correct: 3 (0.01744186046511628)\n",
      "both wrong p: 14 (0.05185185185185185)\n"
     ]
    }
   ],
   "source": [
    "n_t_correct, n_i_correct, n_i_t_wrong = len(t_correct), len(i_correct), len(i_t_wrong)\n",
    "\n",
    "n_t_correct_p = n_t_correct / (n_t_correct + n_i_correct)\n",
    "n_i_correct_p = n_i_correct / (n_t_correct + n_i_correct)\n",
    "n_i_t_wrong_p = n_i_t_wrong / len(combined_scores)\n",
    "\n",
    "print(f\"Text correct: {n_t_correct} ({n_t_correct_p})\")\n",
    "print(f\"Image correct: {n_i_correct} ({n_i_correct_p})\")\n",
    "print(f\"both wrong p: {n_i_t_wrong} ({n_i_t_wrong_p})\")"
   ]
  },
  {
   "cell_type": "code",
   "execution_count": 27,
   "metadata": {},
   "outputs": [
    {
     "name": "stdout",
     "output_type": "stream",
     "text": [
      "Loading document map ...\n"
     ]
    },
    {
     "name": "stderr",
     "output_type": "stream",
     "text": [
      "Loading documents: 100%|██████████| 100833/100833 [00:18<00:00, 5586.39it/s]\n"
     ]
    }
   ],
   "source": [
    "from tqdm import tqdm\n",
    "base_path = \"./data/wikiweb2m\"\n",
    "\n",
    "# load the documents\n",
    "print('Loading document map ...')\n",
    "with open(f'./data/wikiweb2m/test_document_map.json', 'r') as f:\n",
    "    document_map = json.load(f)\n",
    "\n",
    "\n",
    "documents = {}\n",
    "for doc_id, filename in tqdm(document_map.items(), total=len(document_map), desc='Loading documents'):\n",
    "    with open(filename, 'r') as f:\n",
    "        document = json.load(f)\n",
    "        documents[doc_id] = document"
   ]
  },
  {
   "cell_type": "code",
   "execution_count": 29,
   "metadata": {},
   "outputs": [],
   "source": [
    "docs_i_correct = {doc_id: documents[doc_id] for doc_id in i_correct}"
   ]
  },
  {
   "cell_type": "code",
   "execution_count": 33,
   "metadata": {},
   "outputs": [
    {
     "data": {
      "text/plain": [
       "dict_keys(['clean_page_description', 'is_page_description_sample', 'page_contains_images', 'page_content_sections_without_table_list', 'page_title', 'page_url', 'raw_page_description', 'split', 'text', 'image_urls', 'image_paths', 'image_captions'])"
      ]
     },
     "execution_count": 33,
     "metadata": {},
     "output_type": "execute_result"
    }
   ],
   "source": [
    "docs_i_correct['test_314'].keys()"
   ]
  },
  {
   "cell_type": "code",
   "execution_count": 34,
   "metadata": {},
   "outputs": [
    {
     "name": "stdout",
     "output_type": "stream",
     "text": [
      "Saved images and title for document test_314 to ./data/wikiweb2m/image_examples/test_314\n",
      "Saved images and title for document test_164 to ./data/wikiweb2m/image_examples/test_164\n",
      "Saved images and title for document test_215 to ./data/wikiweb2m/image_examples/test_215\n"
     ]
    }
   ],
   "source": [
    "import os\n",
    "from PIL import Image\n",
    "import shutil\n",
    "\n",
    "docs_i_correct['test_314']\n",
    "\n",
    "for doc_id, doc in docs_i_correct.items():\n",
    "    # Create a directory for each document\n",
    "    doc_dir = os.path.join(base_path, 'image_examples', doc_id)\n",
    "    os.makedirs(doc_dir, exist_ok=True)\n",
    "\n",
    "    # Save the page title\n",
    "    with open(os.path.join(doc_dir, 'title.txt'), 'w') as f:\n",
    "        f.write(doc['page_title'])\n",
    "\n",
    "    # Save the images\n",
    "    for i, image_path in enumerate(doc['image_paths']):\n",
    "        # Open the image\n",
    "        img = Image.open(image_path)\n",
    "        # Save the image to the document's directory\n",
    "        img.save(os.path.join(doc_dir, f'image_{i}.jpg'))\n",
    "\n",
    "    print(f\"Saved images and title for document {doc_id} to {doc_dir}\")\n"
   ]
  }
 ],
 "metadata": {
  "kernelspec": {
   "display_name": "incidental3",
   "language": "python",
   "name": "python3"
  },
  "language_info": {
   "codemirror_mode": {
    "name": "ipython",
    "version": 3
   },
   "file_extension": ".py",
   "mimetype": "text/x-python",
   "name": "python",
   "nbconvert_exporter": "python",
   "pygments_lexer": "ipython3",
   "version": "3.11.3"
  }
 },
 "nbformat": 4,
 "nbformat_minor": 2
}
